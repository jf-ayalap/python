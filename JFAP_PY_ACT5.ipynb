{
  "nbformat": 4,
  "nbformat_minor": 0,
  "metadata": {
    "colab": {
      "provenance": [],
      "authorship_tag": "ABX9TyPXW63jBMF0gi749UYheYru",
      "include_colab_link": true
    },
    "kernelspec": {
      "name": "python3",
      "display_name": "Python 3"
    },
    "language_info": {
      "name": "python"
    }
  },
  "cells": [
    {
      "cell_type": "markdown",
      "metadata": {
        "id": "view-in-github",
        "colab_type": "text"
      },
      "source": [
        "<a href=\"https://colab.research.google.com/github/jf-ayalap/python/blob/main/JFAP_PY_ACT5.ipynb\" target=\"_parent\"><img src=\"https://colab.research.google.com/assets/colab-badge.svg\" alt=\"Open In Colab\"/></a>"
      ]
    },
    {
      "cell_type": "markdown",
      "source": [
        "1.- Programa en Python que genere 40 números aleatorios entre el 0 y 200, desplegar los números y la leyenda de cada número si es par o impar , la cantidad de los números pares e impares así como la suma de los números pares o impares."
      ],
      "metadata": {
        "id": "hZGfj7lNaT2k"
      }
    },
    {
      "cell_type": "code",
      "execution_count": 5,
      "metadata": {
        "colab": {
          "base_uri": "https://localhost:8080/"
        },
        "id": "fszLiHQCZrX2",
        "outputId": "57c2905e-020a-44dc-c907-cb7f3f52a91d"
      },
      "outputs": [
        {
          "output_type": "stream",
          "name": "stdout",
          "text": [
            "Números generados:\n",
            "86 es par.\n",
            "126 es par.\n",
            "132 es par.\n",
            "86 es par.\n",
            "18 es par.\n",
            "146 es par.\n",
            "80 es par.\n",
            "98 es par.\n",
            "102 es par.\n",
            "170 es par.\n",
            "122 es par.\n",
            "156 es par.\n",
            "112 es par.\n",
            "174 es par.\n",
            "130 es par.\n",
            "134 es par.\n",
            "164 es par.\n",
            "104 es par.\n",
            "122 es par.\n",
            "107 es impar.\n",
            "175 es impar.\n",
            "69 es impar.\n",
            "31 es impar.\n",
            "19 es impar.\n",
            "101 es impar.\n",
            "99 es impar.\n",
            "75 es impar.\n",
            "153 es impar.\n",
            "37 es impar.\n",
            "33 es impar.\n",
            "105 es impar.\n",
            "193 es impar.\n",
            "181 es impar.\n",
            "199 es impar.\n",
            "83 es impar.\n",
            "29 es impar.\n",
            "75 es impar.\n",
            "121 es impar.\n",
            "169 es impar.\n",
            "19 es impar.\n",
            "Cantidad de números pares: 19\n",
            "Suma de números pares: 2262\n",
            "Cantidad de números impares: 21\n",
            "Suma de números impares: 2073\n"
          ]
        }
      ],
      "source": [
        "import random\n",
        "numeros_pares = []\n",
        "numeros_impares = []\n",
        "pares = 0\n",
        "impares = 0\n",
        "\n",
        "for _ in range(40):\n",
        "    numero = random.randint(0, 200)\n",
        "    if numero % 2 == 0:\n",
        "        numeros_pares.append(numero)\n",
        "        pares += numero\n",
        "    else:\n",
        "        numeros_impares.append(numero)\n",
        "        impares += numero\n",
        "print(\"Números generados:\")\n",
        "for numero in numeros_pares:\n",
        "    print(f\"{numero} es par.\")\n",
        "for numero in numeros_impares:\n",
        "    print(f\"{numero} es impar.\")\n",
        "\n",
        "print(f\"Cantidad de números pares: {len(numeros_pares)}\")\n",
        "print(f\"Suma de números pares: {pares}\")\n",
        "print(f\"Cantidad de números impares: {len(numeros_impares)}\")\n",
        "print(f\"Suma de números impares: {impares}\")"
      ]
    },
    {
      "cell_type": "markdown",
      "source": [
        "Programa en Python que despliegue la tabla de multiplicar de un número dado (número entre el 1 y 20)"
      ],
      "metadata": {
        "id": "X9ptbXp0cgLX"
      }
    },
    {
      "cell_type": "code",
      "source": [
        "num = int(input(\"Ingresa un valor entre el 1 al 20\"))\n",
        "if num < 1 or num >20:\n",
        "  print (\"el numero debe de estar entre el 1 y 20, intente nuevamente\")\n",
        "else:\n",
        "  print(f\"La tabla de multiplicación es {num}\")\n",
        "  for i in range (1,11):\n",
        "    resultado = i * num\n",
        "    print(f\"{num} * {i} = {resultado}\")"
      ],
      "metadata": {
        "colab": {
          "base_uri": "https://localhost:8080/"
        },
        "id": "yDhwHe7cciou",
        "outputId": "5aa93d5e-45ba-4927-be69-620692b6accb"
      },
      "execution_count": 15,
      "outputs": [
        {
          "output_type": "stream",
          "name": "stdout",
          "text": [
            "Ingresa un valor entre el 1 al 2019\n",
            "La tabla de multiplicación es 19\n",
            "19 * 1 = 19\n",
            "19 * 2 = 38\n",
            "19 * 3 = 57\n",
            "19 * 4 = 76\n",
            "19 * 5 = 95\n",
            "19 * 6 = 114\n",
            "19 * 7 = 133\n",
            "19 * 8 = 152\n",
            "19 * 9 = 171\n",
            "19 * 10 = 190\n"
          ]
        }
      ]
    },
    {
      "cell_type": "markdown",
      "source": [
        "Programa en Python que lea una calificación, las calificación deberá estar en el rango de 0 a 100, si hay un error de captura, mostrar mensaje de error. con la calificación correcta mostrar msg de aprobado reprobado."
      ],
      "metadata": {
        "id": "UaSiy0c3eMSu"
      }
    },
    {
      "cell_type": "code",
      "source": [
        "try:\n",
        "    calificacion = float(input(\"Ingrese la calificación (0-100): \"))\n",
        "    if calificacion >= 0 and calificacion <= 100:\n",
        "        if calificacion >= 60:\n",
        "            print(\"¡Aprobado!\")\n",
        "        else:\n",
        "            print(\"¡Reprobado!\")\n",
        "    else:\n",
        "        print(\"Error: La calificación debe estar en el rango de 0 a 100 \")\n",
        "except ValueError:\n",
        "    print(\"Error: Ingrese una calificación válida (número) \")"
      ],
      "metadata": {
        "colab": {
          "base_uri": "https://localhost:8080/"
        },
        "id": "QJB1HUHbeMip",
        "outputId": "cf16607f-a699-45e8-866c-720acb5a8b43"
      },
      "execution_count": 23,
      "outputs": [
        {
          "output_type": "stream",
          "name": "stdout",
          "text": [
            "Ingrese la calificación (0-100): s\n",
            "Error: Ingrese una calificación válida (número) \n"
          ]
        }
      ]
    },
    {
      "cell_type": "markdown",
      "source": [
        "Programa en Python que lea n cantidad de números enteros dentro de un rango dado (> 0 ) , el programa deberá terminar cuando el usuario introduzca el número cero.\n",
        "desplegar la suma de números y la media."
      ],
      "metadata": {
        "id": "_xNWDAephLx6"
      }
    },
    {
      "cell_type": "code",
      "source": [
        "sum = 0\n",
        "cantidad = 0\n",
        "while True:\n",
        "  num = int(input(\"Ingresa un número mayor a 0, en caso de que quieras terminar el ciclo, pon 0 \"))\n",
        "  if num == 0:\n",
        "    break\n",
        "  if num > 0:\n",
        "    sum += num\n",
        "    cantidad +=1\n",
        "  if cantidad > 0:\n",
        "    media = sum/ cantidad\n",
        "    print(f\"Suma de números: {sum}\")\n",
        "    print(f\"Media de números: {media}\")\n",
        "else:\n",
        "    print(\"No se ingresaron números válidos.\")"
      ],
      "metadata": {
        "colab": {
          "base_uri": "https://localhost:8080/"
        },
        "id": "ICqc_o9KhRiO",
        "outputId": "d4a9af88-15a1-4e73-a20e-8234f8f5bf45"
      },
      "execution_count": 24,
      "outputs": [
        {
          "name": "stdout",
          "output_type": "stream",
          "text": [
            "Ingresa un número mayor a 0, en caso de que quieras terminar el ciclo, pon 0 2\n",
            "Suma de números: 2\n",
            "Media de números: 2.0\n",
            "Ingresa un número mayor a 0, en caso de que quieras terminar el ciclo, pon 0 5\n",
            "Suma de números: 7\n",
            "Media de números: 3.5\n",
            "Ingresa un número mayor a 0, en caso de que quieras terminar el ciclo, pon 0 20\n",
            "Suma de números: 27\n",
            "Media de números: 9.0\n",
            "Ingresa un número mayor a 0, en caso de que quieras terminar el ciclo, pon 0 100\n",
            "Suma de números: 127\n",
            "Media de números: 31.75\n",
            "Ingresa un número mayor a 0, en caso de que quieras terminar el ciclo, pon 0 0\n"
          ]
        }
      ]
    },
    {
      "cell_type": "markdown",
      "source": [
        "Programa en Python que sirva para leer el promedio de una materia. donde el usuario tendrá un máximo de 3 oportunidades de cursar la materia, si el promedio es aprobado, felicitarlo y continuar el siguiente semestre, si promedio es reprobado deberá salir mensaje de repetir materia o es baja académica si ha reprobado 3 veces"
      ],
      "metadata": {
        "id": "tfPi9L_kklCd"
      }
    },
    {
      "cell_type": "code",
      "source": [
        "oportunidades = 0\n",
        "while oportunidades < 3:\n",
        "  oportunidades =+ 1\n",
        "  promedio = float(input(\" Ingrese el promedio de la materia: \"))\n",
        "  if promedio >= 60:\n",
        "    print (\"felicidades, aprobaste la materia\")\n",
        "    break\n",
        "  else:\n",
        "    if oportunidades < 3:\n",
        "      print(\"Reprobaste, vuelve a intentarlo otra vez\")\n",
        "    else:\n",
        "      print(\"Estás dado de baja dado que ya tuviste las 3 oportunidades\")\n",
        "      break\n"
      ],
      "metadata": {
        "colab": {
          "base_uri": "https://localhost:8080/",
          "height": 385
        },
        "id": "Q1VA-qB7kl-o",
        "outputId": "d65e2769-fd7f-438e-b9d4-6c66e27cd6a0"
      },
      "execution_count": 30,
      "outputs": [
        {
          "output_type": "error",
          "ename": "KeyboardInterrupt",
          "evalue": "ignored",
          "traceback": [
            "\u001b[0;31m---------------------------------------------------------------------------\u001b[0m",
            "\u001b[0;31mKeyboardInterrupt\u001b[0m                         Traceback (most recent call last)",
            "\u001b[0;32m<ipython-input-30-103a2daa6608>\u001b[0m in \u001b[0;36m<cell line: 2>\u001b[0;34m()\u001b[0m\n\u001b[1;32m      2\u001b[0m \u001b[0;32mwhile\u001b[0m \u001b[0moportunidades\u001b[0m \u001b[0;34m<\u001b[0m \u001b[0;36m3\u001b[0m\u001b[0;34m:\u001b[0m\u001b[0;34m\u001b[0m\u001b[0;34m\u001b[0m\u001b[0m\n\u001b[1;32m      3\u001b[0m   \u001b[0moportunidades\u001b[0m \u001b[0;34m=\u001b[0m\u001b[0;34m+\u001b[0m \u001b[0;36m1\u001b[0m\u001b[0;34m\u001b[0m\u001b[0;34m\u001b[0m\u001b[0m\n\u001b[0;32m----> 4\u001b[0;31m   \u001b[0mpromedio\u001b[0m \u001b[0;34m=\u001b[0m \u001b[0mfloat\u001b[0m\u001b[0;34m(\u001b[0m\u001b[0minput\u001b[0m\u001b[0;34m(\u001b[0m\u001b[0;34m\" Ingrese el promedio de la materia: \"\u001b[0m\u001b[0;34m)\u001b[0m\u001b[0;34m)\u001b[0m\u001b[0;34m\u001b[0m\u001b[0;34m\u001b[0m\u001b[0m\n\u001b[0m\u001b[1;32m      5\u001b[0m   \u001b[0;32mif\u001b[0m \u001b[0mpromedio\u001b[0m \u001b[0;34m>=\u001b[0m \u001b[0;36m60\u001b[0m\u001b[0;34m:\u001b[0m\u001b[0;34m\u001b[0m\u001b[0;34m\u001b[0m\u001b[0m\n\u001b[1;32m      6\u001b[0m     \u001b[0mprint\u001b[0m \u001b[0;34m(\u001b[0m\u001b[0;34m\"felicidades, aprobaste la materia\"\u001b[0m\u001b[0;34m)\u001b[0m\u001b[0;34m\u001b[0m\u001b[0;34m\u001b[0m\u001b[0m\n",
            "\u001b[0;32m/usr/local/lib/python3.10/dist-packages/ipykernel/kernelbase.py\u001b[0m in \u001b[0;36mraw_input\u001b[0;34m(self, prompt)\u001b[0m\n\u001b[1;32m    849\u001b[0m                 \u001b[0;34m\"raw_input was called, but this frontend does not support input requests.\"\u001b[0m\u001b[0;34m\u001b[0m\u001b[0;34m\u001b[0m\u001b[0m\n\u001b[1;32m    850\u001b[0m             )\n\u001b[0;32m--> 851\u001b[0;31m         return self._input_request(str(prompt),\n\u001b[0m\u001b[1;32m    852\u001b[0m             \u001b[0mself\u001b[0m\u001b[0;34m.\u001b[0m\u001b[0m_parent_ident\u001b[0m\u001b[0;34m,\u001b[0m\u001b[0;34m\u001b[0m\u001b[0;34m\u001b[0m\u001b[0m\n\u001b[1;32m    853\u001b[0m             \u001b[0mself\u001b[0m\u001b[0;34m.\u001b[0m\u001b[0m_parent_header\u001b[0m\u001b[0;34m,\u001b[0m\u001b[0;34m\u001b[0m\u001b[0;34m\u001b[0m\u001b[0m\n",
            "\u001b[0;32m/usr/local/lib/python3.10/dist-packages/ipykernel/kernelbase.py\u001b[0m in \u001b[0;36m_input_request\u001b[0;34m(self, prompt, ident, parent, password)\u001b[0m\n\u001b[1;32m    893\u001b[0m             \u001b[0;32mexcept\u001b[0m \u001b[0mKeyboardInterrupt\u001b[0m\u001b[0;34m:\u001b[0m\u001b[0;34m\u001b[0m\u001b[0;34m\u001b[0m\u001b[0m\n\u001b[1;32m    894\u001b[0m                 \u001b[0;31m# re-raise KeyboardInterrupt, to truncate traceback\u001b[0m\u001b[0;34m\u001b[0m\u001b[0;34m\u001b[0m\u001b[0m\n\u001b[0;32m--> 895\u001b[0;31m                 \u001b[0;32mraise\u001b[0m \u001b[0mKeyboardInterrupt\u001b[0m\u001b[0;34m(\u001b[0m\u001b[0;34m\"Interrupted by user\"\u001b[0m\u001b[0;34m)\u001b[0m \u001b[0;32mfrom\u001b[0m \u001b[0;32mNone\u001b[0m\u001b[0;34m\u001b[0m\u001b[0;34m\u001b[0m\u001b[0m\n\u001b[0m\u001b[1;32m    896\u001b[0m             \u001b[0;32mexcept\u001b[0m \u001b[0mException\u001b[0m \u001b[0;32mas\u001b[0m \u001b[0me\u001b[0m\u001b[0;34m:\u001b[0m\u001b[0;34m\u001b[0m\u001b[0;34m\u001b[0m\u001b[0m\n\u001b[1;32m    897\u001b[0m                 \u001b[0mself\u001b[0m\u001b[0;34m.\u001b[0m\u001b[0mlog\u001b[0m\u001b[0;34m.\u001b[0m\u001b[0mwarning\u001b[0m\u001b[0;34m(\u001b[0m\u001b[0;34m\"Invalid Message:\"\u001b[0m\u001b[0;34m,\u001b[0m \u001b[0mexc_info\u001b[0m\u001b[0;34m=\u001b[0m\u001b[0;32mTrue\u001b[0m\u001b[0;34m)\u001b[0m\u001b[0;34m\u001b[0m\u001b[0;34m\u001b[0m\u001b[0m\n",
            "\u001b[0;31mKeyboardInterrupt\u001b[0m: Interrupted by user"
          ]
        }
      ]
    },
    {
      "cell_type": "markdown",
      "source": [
        "función que lea n cantidad de números hasta que el usuario lo desee, desplegar la suma de los números, media y valor de los números mayores y menores"
      ],
      "metadata": {
        "id": "_FGDDIoUl1Ea"
      }
    },
    {
      "cell_type": "code",
      "source": [
        "def calcular_suma_media_maximo_minimo():\n",
        "    numeros = []\n",
        "    suma = 0\n",
        "    contador = 0\n",
        "\n",
        "    while True:\n",
        "        try:\n",
        "            numero = float(input(\"Ingrese un número (o '0' para finalizar): \"))\n",
        "            if numero == 0:\n",
        "                break\n",
        "            numeros.append(numero)\n",
        "            suma += numero\n",
        "            contador += 1\n",
        "        except ValueError:\n",
        "            print(\"Entrada no válida. Ingrese un número válido.\")\n",
        "\n",
        "    if contador > 0:\n",
        "        media = suma / contador\n",
        "        maximo = max(numeros)\n",
        "        minimo = min(numeros)\n",
        "\n",
        "        print(f\"Suma de números: {suma}\")\n",
        "        print(f\"Media de números: {media}\")\n",
        "        print(f\"Valor máximo: {maximo}\")\n",
        "        print(f\"Valor mínimo: {minimo}\")\n",
        "\n",
        "    else:\n",
        "        print(\"No se ingresaron números válidos.\")\n",
        "calcular_suma_media_maximo_minimo()"
      ],
      "metadata": {
        "colab": {
          "base_uri": "https://localhost:8080/"
        },
        "id": "yQ1alCVbl72b",
        "outputId": "285a5dc7-ae9a-4c8d-b954-7b56fdc641a8"
      },
      "execution_count": 28,
      "outputs": [
        {
          "output_type": "stream",
          "name": "stdout",
          "text": [
            "Ingrese un número (o '0' para finalizar): 20\n",
            "Ingrese un número (o '0' para finalizar): 80\n",
            "Ingrese un número (o '0' para finalizar): 10\n",
            "Ingrese un número (o '0' para finalizar): 0\n",
            "Suma de números: 110.0\n",
            "Media de números: 36.666666666666664\n",
            "Valor máximo: 80.0\n",
            "Valor mínimo: 10.0\n"
          ]
        }
      ]
    },
    {
      "cell_type": "markdown",
      "source": [
        " función que genere 15 números impares entre 10 y 60 o máximo de 25 números. desplegar la media de los pares y media de impares."
      ],
      "metadata": {
        "id": "6QX-M2tcmriW"
      }
    },
    {
      "cell_type": "code",
      "source": [
        "import random\n",
        "\n",
        "def generar_numeros_impares():\n",
        "    numeros_impares = []\n",
        "    numeros_pares = []\n",
        "\n",
        "    for _ in range(25):  # Generar un máximo de 25 números\n",
        "        numero = random.randint(10, 60)\n",
        "\n",
        "        if numero % 2 == 1:  # Si es impar\n",
        "            numeros_impares.append(numero)\n",
        "        else:\n",
        "            numeros_pares.append(numero)\n",
        "\n",
        "        if len(numeros_impares) == 15:\n",
        "            break\n",
        "    media_impares = sum(numeros_impares) / len(numeros_impares) if numeros_impares else 0\n",
        "    media_pares = sum(numeros_pares) / len(numeros_pares) if numeros_pares else 0\n",
        "\n",
        "    return numeros_impares, numeros_pares, media_impares, media_pares\n",
        "\n",
        "\n",
        "impares, pares, media_impares, media_pares = generar_numeros_impares()\n",
        "\n",
        "print(\"Números impares generados:\")\n",
        "print(impares)\n",
        "print(f\"Media de impares: {media_impares}\")\n",
        "\n",
        "print(\"\\nNúmeros pares generados:\")\n",
        "print(pares)\n",
        "print(f\"Media de pares: {media_pares}\")"
      ],
      "metadata": {
        "id": "MhLXttW1mvpO"
      },
      "execution_count": null,
      "outputs": []
    },
    {
      "cell_type": "markdown",
      "source": [
        " función que reciba como parámetro los valores para el área de un triángulo y retorne su resultado"
      ],
      "metadata": {
        "id": "OjeoE4E6n7OI"
      }
    },
    {
      "cell_type": "code",
      "source": [
        "def calcular_area_triangulo(base, altura):\n",
        "\n",
        "    area = (base * altura) / 2\n",
        "    return area\n",
        "\n",
        "# Ejemplo de uso de la función\n",
        "base = float(input(\"Ingrese la longitud de la base del triángulo: \"))\n",
        "altura = float(input(\"Ingrese la altura del triángulo perpendicular a la base: \"))\n",
        "\n",
        "area_trianguo = calcular_area_triangulo(base, altura)\n",
        "print(f\"El área del triángulo es: {area_trianguo}\")"
      ],
      "metadata": {
        "colab": {
          "base_uri": "https://localhost:8080/"
        },
        "id": "KD318arAoMiD",
        "outputId": "42d01e5f-59e5-42c0-fa1d-a5d19884c237"
      },
      "execution_count": 31,
      "outputs": [
        {
          "output_type": "stream",
          "name": "stdout",
          "text": [
            "Ingrese la longitud de la base del triángulo: 20\n",
            "Ingrese la altura del triángulo perpendicular a la base: 10\n",
            "El área del triángulo es: 100.0\n"
          ]
        }
      ]
    }
  ]
}