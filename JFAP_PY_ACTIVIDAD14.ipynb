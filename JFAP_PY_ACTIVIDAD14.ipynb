{
  "nbformat": 4,
  "nbformat_minor": 0,
  "metadata": {
    "colab": {
      "provenance": [],
      "authorship_tag": "ABX9TyNQ1a2/63ltsLBbkU4a0RaL",
      "include_colab_link": true
    },
    "kernelspec": {
      "name": "python3",
      "display_name": "Python 3"
    },
    "language_info": {
      "name": "python"
    }
  },
  "cells": [
    {
      "cell_type": "markdown",
      "metadata": {
        "id": "view-in-github",
        "colab_type": "text"
      },
      "source": [
        "<a href=\"https://colab.research.google.com/github/jf-ayalap/python/blob/main/JFAP_PY_ACTIVIDAD14.ipynb\" target=\"_parent\"><img src=\"https://colab.research.google.com/assets/colab-badge.svg\" alt=\"Open In Colab\"/></a>"
      ]
    },
    {
      "cell_type": "code",
      "execution_count": null,
      "metadata": {
        "id": "S8q_ulIy1mXv"
      },
      "outputs": [],
      "source": [
        "import tkinter as tk\n",
        "ventana = tk.Tk()\n",
        "ventana.title(\"Calculadora\")\n",
        "entrada = tk.Entry(ventana, width=20)\n",
        "entrada.grid(row=0, column=0, columnspan=4)\n",
        "def boton_click(valor):\n",
        "    entrada.insert(tk.END, valor)\n",
        "\n",
        "def calcular():\n",
        "    try:\n",
        "        resultado = eval(entrada.get())\n",
        "        entrada.delete(0, tk.END)\n",
        "        entrada.insert(0, resultado)\n",
        "    except:\n",
        "        entrada.delete(0, tk.END)\n",
        "        entrada.insert(0, \"Error\")\n",
        "        botones = [\n",
        "    \"7\", \"8\", \"9\", \"/\",\n",
        "    \"4\", \"5\", \"6\", \"*\",\n",
        "    \"1\", \"2\", \"3\", \"-\",\n",
        "    \"0\", \".\", \"=\", \"+\"\n",
        "]\n",
        "\n",
        "fila = 1\n",
        "columna = 0\n",
        "\n",
        "for boton in botones:\n",
        "    tk.Button(ventana, text=boton, width=5, height=2, command=lambda valor=boton: boton_click(valor)).grid(row=fila, column=columna)\n",
        "    columna += 1\n",
        "    if columna > 3:\n",
        "        columna = 0\n",
        "        fila += 1\n",
        "\n",
        "ventana.mainloop()"
      ]
    }
  ]
}