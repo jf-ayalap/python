{
  "nbformat": 4,
  "nbformat_minor": 0,
  "metadata": {
    "colab": {
      "provenance": [],
      "authorship_tag": "ABX9TyOygD1G/xecDb6VRyzutg+/",
      "include_colab_link": true
    },
    "kernelspec": {
      "name": "python3",
      "display_name": "Python 3"
    },
    "language_info": {
      "name": "python"
    }
  },
  "cells": [
    {
      "cell_type": "markdown",
      "metadata": {
        "id": "view-in-github",
        "colab_type": "text"
      },
      "source": [
        "<a href=\"https://colab.research.google.com/github/jf-ayalap/python/blob/main/JFAP_PY_A02.ipynb\" target=\"_parent\"><img src=\"https://colab.research.google.com/assets/colab-badge.svg\" alt=\"Open In Colab\"/></a>"
      ]
    },
    {
      "cell_type": "markdown",
      "source": [
        "# Tarea #2 José Ayala"
      ],
      "metadata": {
        "id": "gh0tMnWk9Qh4"
      }
    },
    {
      "cell_type": "markdown",
      "source": [
        "1.- Programa en Python que lea 2 números enteros, usar una condición y analizar los dos números y desplegar cual de los números es el mayor"
      ],
      "metadata": {
        "id": "6O775xRp9MWl"
      }
    },
    {
      "cell_type": "code",
      "execution_count": 28,
      "metadata": {
        "colab": {
          "base_uri": "https://localhost:8080/"
        },
        "id": "WJnVOzO-8tKa",
        "outputId": "5b3e6985-78e9-4ff5-a190-ce61584e19bf"
      },
      "outputs": [
        {
          "output_type": "stream",
          "name": "stdout",
          "text": [
            "da un numero: 3\n",
            "da otro numero: 1\n",
            "el numero mayor es 3\n"
          ]
        }
      ],
      "source": [
        "num1 = int(input(\"da un numero: \"))\n",
        "num2 = int(input(\"da otro numero: \"))\n",
        "if (num1> num2):\n",
        "  print(f\"el numero mayor es {num1}\")\n",
        "if(num1< num2):\n",
        "  print(f\"el numero mayor es {num2}\")"
      ]
    },
    {
      "cell_type": "markdown",
      "source": [
        "2.- Programa en PythonAlgoritmo que lea 4 calificaciones de un alumno, calcular y desplegar el promedio acompañado de la leyenda \"APROBADO\" o \"REPROBADO\""
      ],
      "metadata": {
        "id": "XQOIxGcQ-cIV"
      }
    },
    {
      "cell_type": "code",
      "source": [
        "cal1= float(input(\"Da calificación 1 del 1-100:\\n \"))\n",
        "cal2= float(input(\"Da calificación 2 del 1-100:\\n \"))\n",
        "cal3= float(input(\"Da calificación 3 del 1-100:\\n \"))\n",
        "cal4= float(input(\"Da calificación 4: del 1-100:\\n \"))\n",
        "prom = (cal1 + cal2 + cal3 + cal4)/4\n",
        "if (prom >= 60.0):\n",
        "  print(f\"tu promedio {prom}, por ende es aprobatoria\")\n",
        "if (prom <= 60.0):\n",
        "  print(f\"Tu promedio es: {prom}, Estás reprobado\")"
      ],
      "metadata": {
        "colab": {
          "base_uri": "https://localhost:8080/"
        },
        "id": "uU6yxRx0-e4r",
        "outputId": "dd8bb229-6039-40c6-d790-220c03e5f6c6"
      },
      "execution_count": 53,
      "outputs": [
        {
          "output_type": "stream",
          "name": "stdout",
          "text": [
            "Da calificación 1 del 1-100:\n",
            " 20\n",
            "Da calificación 2 del 1-100:\n",
            " 45\n",
            "Da calificación 3 del 1-100:\n",
            " 30\n",
            "Da calificación 4: del 1-100:\n",
            " 100\n",
            "Tu promedio es: 48.75, Estás reprobado\n"
          ]
        }
      ]
    },
    {
      "cell_type": "markdown",
      "source": [
        "3.- Programa en PythonAlgoritmo que a través de opciones (1.- HOMBRE 2.- MUJER ) preguntar al usuario cual es su sexo y desplegar la leyenda “HOMBRE ”, “MUJER”"
      ],
      "metadata": {
        "id": "ZU5nMc0LAKK_"
      }
    },
    {
      "cell_type": "code",
      "source": [
        "sexo= int(input(\"Elige 1 si eres hombre o 2 si eres mujer: \"))\n",
        "if(sexo==1):\n",
        "  print(f\"De acuerdo a la selección del usuario: {sexo}\\n Eres hombre\")\n",
        "if(sexo==2):\n",
        "  print(f\"De acuerdo a la selección del usuario: {sexo}\\n Eres mujer\")\n"
      ],
      "metadata": {
        "colab": {
          "base_uri": "https://localhost:8080/"
        },
        "id": "SwCP_84VAOOf",
        "outputId": "a1ecc3d9-a01f-403f-e2b9-6232be4c8ca4"
      },
      "execution_count": 34,
      "outputs": [
        {
          "output_type": "stream",
          "name": "stdout",
          "text": [
            "Elige 1 si eres hombre o 2 si eres mujer: 2\n",
            "De acuerdo a la selección del usuario: 2\n",
            " Eres mujer\n"
          ]
        }
      ]
    },
    {
      "cell_type": "markdown",
      "source": [
        "\n",
        "4.- Programa en Python que lea un número entero, y desplegar si el número es “PAR” o “IMPAR”"
      ],
      "metadata": {
        "id": "P2Iv17A8DJZ7"
      }
    },
    {
      "cell_type": "code",
      "source": [
        "num = int(input(\"Ingresa un numero entero\"))\n",
        "if (num%2 ==0):\n",
        "  print(f\"el numero {num}, es par\")\n",
        "if(num%2 !=0):\n",
        "  print(f\"El numero {num}, es impar\")\n"
      ],
      "metadata": {
        "colab": {
          "base_uri": "https://localhost:8080/"
        },
        "id": "O4sjpszgDKGs",
        "outputId": "9b49d3cc-558e-4387-d7bf-fc58e3ba4af2"
      },
      "execution_count": 52,
      "outputs": [
        {
          "output_type": "stream",
          "name": "stdout",
          "text": [
            "Ingresa un numero entero3\n",
            "El numero 3, es impar\n"
          ]
        }
      ]
    },
    {
      "cell_type": "markdown",
      "source": [
        "5.- Programa en Python que lea 2 números enteros, usar una condición y analizar los dos números y desplegar cual de los números es el mayor."
      ],
      "metadata": {
        "id": "xXDVerInEegK"
      }
    },
    {
      "cell_type": "code",
      "source": [
        "num1= int(input(\"Da un numero: \"))\n",
        "num2= int(input(\"Da un segundo numero: \"))\n",
        "if (num1>num2):\n",
        "  print(f\"El número mayor es: \\n {num1}\")\n",
        "else:\n",
        "  print(f\" El numero mayor es: \\n {num2}\")"
      ],
      "metadata": {
        "colab": {
          "base_uri": "https://localhost:8080/"
        },
        "id": "cKbShBQDEj4B",
        "outputId": "617b5e85-59bb-4587-df32-61637fd1996d"
      },
      "execution_count": 42,
      "outputs": [
        {
          "output_type": "stream",
          "name": "stdout",
          "text": [
            "Da un numero: 10\n",
            "Da un segundo numero: 1\n",
            "El número mayor es: \n",
            " 10\n"
          ]
        }
      ]
    },
    {
      "cell_type": "markdown",
      "source": [],
      "metadata": {
        "id": "PeEod0aJEjUn"
      }
    },
    {
      "cell_type": "markdown",
      "source": [
        "6.- Programa en Python que lea 4 calificaciones de un alumno, calcular y desplegar el promedio acompañado de la leyenda APROBADO o REPROBADO\n",
        "\n"
      ],
      "metadata": {
        "id": "RBqeSsDJFX5l"
      }
    },
    {
      "cell_type": "code",
      "source": [
        "cal1= float(input(\"Da calificación 1 del 1-100:\\n \"))\n",
        "cal2= float(input(\"Da calificación 2 del 1-100:\\n \"))\n",
        "cal3= float(input(\"Da calificación 3 del 1-100:\\n \"))\n",
        "cal4= float(input(\"Da calificación 4: del 1-100:\\n \"))\n",
        "prom = (cal1 + cal2 + cal3 + cal4)/4\n",
        "if (prom >= 60.0):\n",
        "  print(f\" Tu calificacion promedio es {prom}, por ende estás aprobado\")\n",
        "else:\n",
        "  print(f\" Tu califiación promedio es {prom}, por ende estás reprobado\")"
      ],
      "metadata": {
        "colab": {
          "base_uri": "https://localhost:8080/"
        },
        "id": "TNYmOSDWFXlp",
        "outputId": "5f083b64-60e2-43fb-83d7-e3ffb0ad0ed2"
      },
      "execution_count": 44,
      "outputs": [
        {
          "output_type": "stream",
          "name": "stdout",
          "text": [
            "Da calificación 1 del 1-100:\n",
            " 0\n",
            "Da calificación 2 del 1-100:\n",
            " 0\n",
            "Da calificación 3 del 1-100:\n",
            " 0\n",
            "Da calificación 4: del 1-100:\n",
            " 0\n",
            " Tu califiación promedio es 0.0, por ende estás reprobado\n"
          ]
        }
      ]
    },
    {
      "cell_type": "markdown",
      "source": [
        "7- Programa en Python que a través de opciones (1.- HOMBRE 2.- MUJER ) preguntar al usuario cual es su sexo y desplegar la leyenda “HOMBRE ”, “MUJER”"
      ],
      "metadata": {
        "id": "6bH60EcQHEka"
      }
    },
    {
      "cell_type": "code",
      "source": [
        "sexo= int(input(\"Elige 1 si eres hombre o 2 si eres mujer: \"))\n",
        "if(sexo==1):\n",
        "  print(f\"De acuerdo a la selección del usuario: {sexo}\\n Eres hombre\")\n",
        "else:\n",
        "  print(f\"De acuerdo a la selección del usuario: {sexo}\\n Eres mujer\")"
      ],
      "metadata": {
        "colab": {
          "base_uri": "https://localhost:8080/"
        },
        "id": "5JfojMjnHF28",
        "outputId": "287ac1aa-69fe-407f-bc15-38adf980453e"
      },
      "execution_count": 47,
      "outputs": [
        {
          "output_type": "stream",
          "name": "stdout",
          "text": [
            "Elige 1 si eres hombre o 2 si eres mujer: 2\n",
            "De acuerdo a la selección del usuario: 2\n",
            " Eres mujer\n"
          ]
        }
      ]
    },
    {
      "cell_type": "markdown",
      "source": [
        "8.- Programa en Python que lea un número entero, y desplegar si el número es “PAR” o “IMPAR” NOTA: EJERCICIOS PARA SER RESUELTOS USANDO EXCLUSIVAMENTE CONDICIONES COMPUESTO"
      ],
      "metadata": {
        "id": "iyhI-tieHaIF"
      }
    },
    {
      "cell_type": "code",
      "source": [
        "num = int(input(\"Ingresa un numero entero\"))\n",
        "if (num%2 ==0):\n",
        "  print(f\"el numero {num}, es par\")\n",
        "else:\n",
        "  print(f\"El numero {num}, es impar\")"
      ],
      "metadata": {
        "colab": {
          "base_uri": "https://localhost:8080/"
        },
        "id": "0uJ1Ns_bHdYK",
        "outputId": "f0290081-1b28-4cb2-c2d4-f13f3e3c5157"
      },
      "execution_count": 51,
      "outputs": [
        {
          "output_type": "stream",
          "name": "stdout",
          "text": [
            "Ingresa un numero entero63\n",
            "El numero 63, es impar\n"
          ]
        }
      ]
    }
  ]
}