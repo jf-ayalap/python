{
  "nbformat": 4,
  "nbformat_minor": 0,
  "metadata": {
    "colab": {
      "provenance": [],
      "authorship_tag": "ABX9TyNQ0/3/EhGqfW9WuuVn+qfu",
      "include_colab_link": true
    },
    "kernelspec": {
      "name": "python3",
      "display_name": "Python 3"
    },
    "language_info": {
      "name": "python"
    }
  },
  "cells": [
    {
      "cell_type": "markdown",
      "metadata": {
        "id": "view-in-github",
        "colab_type": "text"
      },
      "source": [
        "<a href=\"https://colab.research.google.com/github/jf-ayalap/python/blob/main/INICIALES_PY_EXA1.ipynb\" target=\"_parent\"><img src=\"https://colab.research.google.com/assets/colab-badge.svg\" alt=\"Open In Colab\"/></a>"
      ]
    },
    {
      "cell_type": "code",
      "source": [],
      "metadata": {
        "id": "BlxtHObP7h8t"
      },
      "execution_count": 23,
      "outputs": []
    },
    {
      "cell_type": "markdown",
      "source": [
        "funcion que retorne una lista con 30 numeros generados aleatorios (20-100) no repetidos"
      ],
      "metadata": {
        "id": "_w8Dtl-N7_l4"
      }
    },
    {
      "cell_type": "code",
      "execution_count": 29,
      "metadata": {
        "colab": {
          "base_uri": "https://localhost:8080/"
        },
        "id": "k_Pmp4bG5P-E",
        "outputId": "06c86433-b284-49c1-f8e8-004128f1b120"
      },
      "outputs": [
        {
          "output_type": "stream",
          "name": "stdout",
          "text": [
            "[20, 21, 23, 25, 29, 32, 33, 34, 37, 41, 44, 47, 50, 52, 59, 64, 68, 69, 71, 72, 75, 77, 78, 81, 84, 93, 94, 95, 96, 100]\n"
          ]
        }
      ],
      "source": [
        "import random\n",
        "\n",
        "def generar_lista_aleatoria():\n",
        "    numeros_aleatorios = set()\n",
        "\n",
        "    while len(numeros_aleatorios) < 30:\n",
        "        numero = random.randint(20, 100)\n",
        "        numeros_aleatorios.add(numero)\n",
        "\n",
        "    return list(numeros_aleatorios)\n",
        "\n",
        "lista_aleatoria = generar_lista_aleatoria()\n",
        "print(lista_aleatoria)"
      ]
    }
  ]
}