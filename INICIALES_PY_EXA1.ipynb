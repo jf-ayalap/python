{
  "nbformat": 4,
  "nbformat_minor": 0,
  "metadata": {
    "colab": {
      "provenance": [],
      "authorship_tag": "ABX9TyOIsr41d/ZYOxsDSaUIz84g",
      "include_colab_link": true
    },
    "kernelspec": {
      "name": "python3",
      "display_name": "Python 3"
    },
    "language_info": {
      "name": "python"
    }
  },
  "cells": [
    {
      "cell_type": "markdown",
      "metadata": {
        "id": "view-in-github",
        "colab_type": "text"
      },
      "source": [
        "<a href=\"https://colab.research.google.com/github/jf-ayalap/python/blob/main/INICIALES_PY_EXA1.ipynb\" target=\"_parent\"><img src=\"https://colab.research.google.com/assets/colab-badge.svg\" alt=\"Open In Colab\"/></a>"
      ]
    },
    {
      "cell_type": "code",
      "execution_count": 12,
      "metadata": {
        "colab": {
          "base_uri": "https://localhost:8080/"
        },
        "id": "k_Pmp4bG5P-E",
        "outputId": "1a0b82e3-f403-43b1-8e84-e5b42e34d074"
      },
      "outputs": [
        {
          "output_type": "stream",
          "name": "stdout",
          "text": [
            "Ingresa un número para calcular su factorial:3\n",
            "El factorial de 3 es: 6\n"
          ]
        }
      ],
      "source": [
        "def calcular_factorial():\n",
        "    try:\n",
        "        numero = int(input(\"Ingresa un número para calcular su factorial:\"))\n",
        "        if numero < 0:\n",
        "            print(\"No se puede calcular el factorial, intente nuevamente\")\n",
        "        else:\n",
        "            factorial = 1\n",
        "            for i in range(2, numero + 1):\n",
        "                factorial *= i\n",
        "            print(f\"El factorial de {numero} es: {factorial}\")\n",
        "    except ValueError:\n",
        "        print(\"Por favor, ingresa un número entero válido.\")\n",
        "calcular_factorial()"
      ]
    }
  ]
}