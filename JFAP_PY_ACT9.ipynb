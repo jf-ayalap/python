{
  "nbformat": 4,
  "nbformat_minor": 0,
  "metadata": {
    "colab": {
      "provenance": [],
      "authorship_tag": "ABX9TyOLth16YJNOghLi8MJP9YtX",
      "include_colab_link": true
    },
    "kernelspec": {
      "name": "python3",
      "display_name": "Python 3"
    },
    "language_info": {
      "name": "python"
    }
  },
  "cells": [
    {
      "cell_type": "markdown",
      "metadata": {
        "id": "view-in-github",
        "colab_type": "text"
      },
      "source": [
        "<a href=\"https://colab.research.google.com/github/jf-ayalap/python/blob/main/JFAP_PY_ACT9.ipynb\" target=\"_parent\"><img src=\"https://colab.research.google.com/assets/colab-badge.svg\" alt=\"Open In Colab\"/></a>"
      ]
    },
    {
      "cell_type": "code",
      "execution_count": null,
      "metadata": {
        "colab": {
          "base_uri": "https://localhost:8080/"
        },
        "id": "0yESS0J-ar0u",
        "outputId": "a44796f2-98c5-4951-c923-0e622d792d6b"
      },
      "outputs": [
        {
          "metadata": {
            "tags": null
          },
          "name": "stdout",
          "output_type": "stream",
          "text": [
            "\n",
            "MENU\n",
            "1.- Crear Diccionario\n",
            "2.- Imprimir Diccionario\n",
            "0.- Salir\n"
          ]
        }
      ],
      "source": [
        "def crear_diccionario_alumno():\n",
        "    id = int(input(\"Ingrese el ID del alumno: \"))\n",
        "    nombre = input(\"Ingrese el nombre del alumno: \")\n",
        "    appaterno = input(\"Ingrese el apellido paterno del alumno: \")\n",
        "    apmaterno = input(\"Ingrese el apellido materno del alumno: \")\n",
        "    edad = int(input(\"Ingrese la edad del alumno: \"))\n",
        "    sexo = input(\"Ingrese el sexo del alumno: \")\n",
        "\n",
        "    alumno = {\n",
        "        'id': id,\n",
        "        'nombre': nombre,\n",
        "        'appaterno': appaterno,\n",
        "        'apmaterno': apmaterno,\n",
        "        'edad': edad,\n",
        "        'sexo': sexo\n",
        "    }\n",
        "    return alumno\n",
        "\n",
        "def imprimir_diccionario(diccionario):\n",
        "    for clave, valor in diccionario.items():\n",
        "        print(f\"{clave}: {valor}\")\n",
        "\n",
        "diccionario_alumno = {}\n",
        "\n",
        "while True:\n",
        "    print(\"\\nMENU\")\n",
        "    print(\"1.- Crear Diccionario\")\n",
        "    print(\"2.- Imprimir Diccionario\")\n",
        "    print(\"0.- Salir\")\n",
        "\n",
        "    opcion = input(\"Seleccione una opción: \")\n",
        "\n",
        "    if opcion == \"1\":\n",
        "        diccionario_alumno = crear_diccionario_alumno()\n",
        "        print(\"Diccionario de alumno creado.\")\n",
        "    elif opcion == \"2\":\n",
        "        if diccionario_alumno:\n",
        "            print(\"Diccionario de alumno:\")\n",
        "            imprimir_diccionario(diccionario_alumno)\n",
        "        else:\n",
        "            print(\"El diccionario de alumno está vacío. Crea uno primero.\")\n",
        "    elif opcion == \"0\":\n",
        "        print(\"Saliendo del programa.\")\n",
        "        break\n",
        "    else:\n",
        "        print(\"Opción no válida. Por favor, seleccion Por favor, seleccione una opción válida.\")"
      ]
    }
  ]
}