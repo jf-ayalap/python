{
  "nbformat": 4,
  "nbformat_minor": 0,
  "metadata": {
    "colab": {
      "provenance": [],
      "authorship_tag": "ABX9TyPTLhnxFn3D19DMCVz4X8ri",
      "include_colab_link": true
    },
    "kernelspec": {
      "name": "python3",
      "display_name": "Python 3"
    },
    "language_info": {
      "name": "python"
    }
  },
  "cells": [
    {
      "cell_type": "markdown",
      "metadata": {
        "id": "view-in-github",
        "colab_type": "text"
      },
      "source": [
        "<a href=\"https://colab.research.google.com/github/jf-ayalap/python/blob/main/JFAP_Actividad1.ipynb\" target=\"_parent\"><img src=\"https://colab.research.google.com/assets/colab-badge.svg\" alt=\"Open In Colab\"/></a>"
      ]
    },
    {
      "cell_type": "markdown",
      "source": [
        "## **Actividad 1 José Ayala **"
      ],
      "metadata": {
        "id": "2Agp3PFn0J_X"
      }
    },
    {
      "cell_type": "markdown",
      "source": [
        "1.- Programa en Python Mostrar un mensaje que diga “HOLA MUNDO” en un solo renglón usando 2 print"
      ],
      "metadata": {
        "id": "UAqQZlzQ0UUB"
      }
    },
    {
      "cell_type": "code",
      "execution_count": 32,
      "metadata": {
        "colab": {
          "base_uri": "https://localhost:8080/"
        },
        "id": "i1MW4jKa8U1N",
        "outputId": "5d9e7166-6034-4dd4-b1ae-93408b88bc13"
      },
      "outputs": [
        {
          "output_type": "stream",
          "name": "stdout",
          "text": [
            "Hola mundo\n"
          ]
        }
      ],
      "source": [
        "print(\"Hola\", end=\" \" )\n",
        "print(\"mundo\")"
      ]
    },
    {
      "cell_type": "markdown",
      "source": [
        "2.- Programa en Python que lea 2 números, realizar la suma y desplegar la suma de los 2 números"
      ],
      "metadata": {
        "id": "u6VyrAxo0hbh"
      }
    },
    {
      "cell_type": "markdown",
      "source": [],
      "metadata": {
        "id": "GbOEeViN2_XJ"
      }
    },
    {
      "cell_type": "code",
      "source": [
        "num1= int(input(\"elige un número \"))\n",
        "num2= int(input(\"elige un número \"))\n",
        "total = num1 + num2\n",
        "print(f\"la suma de los números es: {total}\")"
      ],
      "metadata": {
        "colab": {
          "base_uri": "https://localhost:8080/"
        },
        "id": "2pDngfwz0pME",
        "outputId": "b4c1718d-ab70-46a2-bf83-cf038ce96e8f"
      },
      "execution_count": null,
      "outputs": [
        {
          "output_type": "stream",
          "name": "stdout",
          "text": [
            "elige un número 3\n",
            "elige un número 4\n",
            "la suma de los números es: 7\n"
          ]
        }
      ]
    },
    {
      "cell_type": "markdown",
      "source": [
        "3.- Programa en Python que lea 2 números y realice las 4 operaciones básicas"
      ],
      "metadata": {
        "id": "SLVbkG3o3BAT"
      }
    },
    {
      "cell_type": "code",
      "source": [
        "num1= float(input(\"elige un número \"))\n",
        "num2= float(input(\"elige un número \"))\n",
        "suma = num1+ num2\n",
        "print(f\"la suma de los números es: {suma}\")\n",
        "resta = num1 - num2\n",
        "print(f\"La resta de los números es:  {resta}\")\n",
        "multiplicacion = num1 * num2\n",
        "print(f\"La multiplicación de los números es: {multiplicacion}\")\n",
        "division = num1/num2\n",
        "print(f\"La división de los números es: {division}\")"
      ],
      "metadata": {
        "id": "1Bfmdu2s3E9m",
        "colab": {
          "base_uri": "https://localhost:8080/",
          "height": 0
        },
        "outputId": "cbb99c18-42d0-4cc2-dd6c-1217a75d1d50"
      },
      "execution_count": 16,
      "outputs": [
        {
          "output_type": "stream",
          "name": "stdout",
          "text": [
            "elige un número 40\n",
            "elige un número 12\n",
            "la suma de los números es: 52.0\n",
            "La resta de los números es:  28.0\n",
            "La multiplicación de los números es: 480.0\n",
            "La división de los números es: 3.3333333333333335\n"
          ]
        }
      ]
    },
    {
      "cell_type": "markdown",
      "source": [
        "4.- Programa en Python Que sirva para calcular el área de un triángulo"
      ],
      "metadata": {
        "id": "RjPSQpCq4W9k"
      }
    },
    {
      "cell_type": "code",
      "source": [
        "b = float(input(\"Elige un valor para la base: \"))\n",
        "h = float(input(\"Elige un valor para la altura\"))\n",
        "area = (b*h)/2\n",
        "print(f\"El área de un triángulo es {area}\")"
      ],
      "metadata": {
        "colab": {
          "base_uri": "https://localhost:8080/",
          "height": 0
        },
        "id": "60FkAxCm4hxY",
        "outputId": "58f32b54-49c4-44cb-fd36-f79bc24b1ef9"
      },
      "execution_count": 17,
      "outputs": [
        {
          "output_type": "stream",
          "name": "stdout",
          "text": [
            "Elige un valor para la base: 5\n",
            "Elige un valor para la altura4\n",
            "El área de un triángulo es 10.0\n"
          ]
        }
      ]
    },
    {
      "cell_type": "markdown",
      "source": [
        "5.- Programa en Python que lea una medida en centímetros y desplegar la misma medida pero convertida en pies y pulgadas"
      ],
      "metadata": {
        "id": "4v69Rj_M455b"
      }
    },
    {
      "cell_type": "code",
      "source": [
        "cm = float(input(\"Da un valor en centimetros \"))\n",
        "pies = cm * 0.0328\n",
        "print(f\"el valor en pies es: {pies}\")\n",
        "pulgadas = cm * 0.3937\n",
        "print(f\"El valor en pulgadas es: {pulgadas} \")"
      ],
      "metadata": {
        "colab": {
          "base_uri": "https://localhost:8080/",
          "height": 0
        },
        "id": "V0JTsvO6494i",
        "outputId": "cb2f3b1f-64be-4606-e1eb-442c1b58f218"
      },
      "execution_count": 21,
      "outputs": [
        {
          "output_type": "stream",
          "name": "stdout",
          "text": [
            "Da un valor en centimetros 12\n",
            "el valor en pies es: 0.39360000000000006\n",
            "El valor en pulgadas es: 4.7244 \n"
          ]
        }
      ]
    },
    {
      "cell_type": "markdown",
      "source": [
        "6. Programa en Python que lea una temperatura en grados centígrados y desplegarla en Grados Fahrenheit y grados kelvin"
      ],
      "metadata": {
        "id": "IsBDZ7zE9BGY"
      }
    },
    {
      "cell_type": "code",
      "source": [
        "centi = float(input(\"Da un valor de grados Celcius:  \"))\n",
        "F = (centi * (9/5)) + 32\n",
        "print(f\"El valor en grados Farenheit es: {F}\")\n",
        "K = centi + 273.15\n",
        "print(f\"El valor en grados Kelvin es: {K}\")"
      ],
      "metadata": {
        "colab": {
          "base_uri": "https://localhost:8080/",
          "height": 0
        },
        "id": "l-cHuOU29AyV",
        "outputId": "166712e9-cbca-4c9e-9c19-9078da1ed752"
      },
      "execution_count": 26,
      "outputs": [
        {
          "output_type": "stream",
          "name": "stdout",
          "text": [
            "Da un valor de grados Celcius:  20\n",
            "El valor en grados Farenheit es: 68.0\n",
            "El valor en grados Kelvin es: 293.15\n"
          ]
        }
      ]
    },
    {
      "cell_type": "markdown",
      "source": [
        "7.- Programa en Python que lea 4 calificaciones de un alumno, desplegar el promedio del alumno"
      ],
      "metadata": {
        "id": "s6JZ_SNe-ccv"
      }
    },
    {
      "cell_type": "code",
      "source": [
        "cal1= float(input(\"Elige el valor de la califación #1: \"))\n",
        "cal2= float(input(\"Elige el valor de la calificación #2: \"))\n",
        "cal3= float(input (\"Elige el valor de la califcación #3: \"))\n",
        "cal4= float(input (\"Elige el valor de la califcación #4: \"))\n",
        "promedio = (cal1 + cal2 + cal3 + cal4)/4\n",
        "print(f\"El promedio de las califacaciones del alumno es: {promedio}\")"
      ],
      "metadata": {
        "colab": {
          "base_uri": "https://localhost:8080/",
          "height": 0
        },
        "id": "fHzLOI6n-fNM",
        "outputId": "9bcdd8b1-84bc-4460-ad75-cb4143149b3a"
      },
      "execution_count": 28,
      "outputs": [
        {
          "output_type": "stream",
          "name": "stdout",
          "text": [
            "Elige el valor de la califación #1: 100\n",
            "Elige el valor de la calificación #2: 0\n",
            "Elige el valor de la califcación #3: 100\n",
            "Elige el valor de la califcación #4: 0\n",
            "El promedio de las califacaciones del alumno es: 50.0\n"
          ]
        }
      ]
    }
  ]
}