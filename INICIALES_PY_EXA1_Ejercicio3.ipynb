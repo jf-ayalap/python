{
  "nbformat": 4,
  "nbformat_minor": 0,
  "metadata": {
    "colab": {
      "provenance": [],
      "authorship_tag": "ABX9TyNjKmkfnFCHbxoTleeKA++2",
      "include_colab_link": true
    },
    "kernelspec": {
      "name": "python3",
      "display_name": "Python 3"
    },
    "language_info": {
      "name": "python"
    }
  },
  "cells": [
    {
      "cell_type": "markdown",
      "metadata": {
        "id": "view-in-github",
        "colab_type": "text"
      },
      "source": [
        "<a href=\"https://colab.research.google.com/github/jf-ayalap/python/blob/main/INICIALES_PY_EXA1_Ejercicio3.ipynb\" target=\"_parent\"><img src=\"https://colab.research.google.com/assets/colab-badge.svg\" alt=\"Open In Colab\"/></a>"
      ]
    },
    {
      "cell_type": "code",
      "source": [],
      "metadata": {
        "id": "BlxtHObP7h8t"
      },
      "execution_count": 23,
      "outputs": []
    },
    {
      "cell_type": "markdown",
      "source": [
        "funcion que retorne una lista con 30 numeros generados aleatorios (20-100) no repetidos"
      ],
      "metadata": {
        "id": "_w8Dtl-N7_l4"
      }
    },
    {
      "cell_type": "code",
      "execution_count": 32,
      "metadata": {
        "colab": {
          "base_uri": "https://localhost:8080/"
        },
        "id": "k_Pmp4bG5P-E",
        "outputId": "e21f664e-a95d-4c21-dc37-bf3f3368f095"
      },
      "outputs": [
        {
          "output_type": "stream",
          "name": "stdout",
          "text": [
            "Ingrese un número entre 10 y 100: 2\n",
            "Por favor, ingrese un número dentro del rango permitido.\n",
            "Ingrese un número entre 10 y 100: 10\n",
            "El número ingresado es: 10\n"
          ]
        }
      ],
      "source": [
        "def obtener_numero_en_rango(rango_inicio, rango_fin):\n",
        "    while True:\n",
        "        try:\n",
        "            numero = int(input(f\"Ingrese un número entre {rango_inicio} y {rango_fin}: \"))\n",
        "            if rango_inicio <= numero <= rango_fin:\n",
        "                return numero\n",
        "            else:\n",
        "                print(f\"Por favor, ingrese un número dentro del rango permitido\")\n",
        "        except ValueError:\n",
        "            print(\"Error: Por favor, ingrese un número entero válido\")\n",
        "rango_inicio = 10\n",
        "rango_fin = 100\n",
        "numero_ingresado = obtener_numero_en_rango(rango_inicio, rango_fin)\n",
        "print(f\"El número ingresado es: {numero_ingresado}\")"
      ]
    }
  ]
}