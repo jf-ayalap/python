{
  "nbformat": 4,
  "nbformat_minor": 0,
  "metadata": {
    "colab": {
      "provenance": [],
      "authorship_tag": "ABX9TyMIKuPueOtmQgYVGW8sSUis",
      "include_colab_link": true
    },
    "kernelspec": {
      "name": "python3",
      "display_name": "Python 3"
    },
    "language_info": {
      "name": "python"
    }
  },
  "cells": [
    {
      "cell_type": "markdown",
      "metadata": {
        "id": "view-in-github",
        "colab_type": "text"
      },
      "source": [
        "<a href=\"https://colab.research.google.com/github/jf-ayalap/python/blob/main/JFAP_ACTIVIDAD6_PY.ipynb\" target=\"_parent\"><img src=\"https://colab.research.google.com/assets/colab-badge.svg\" alt=\"Open In Colab\"/></a>"
      ]
    },
    {
      "cell_type": "code",
      "execution_count": null,
      "metadata": {
        "id": "b7aEkK5sg0af"
      },
      "outputs": [],
      "source": [
        "FUNCIÓN QUE LEA n CANTIDAD DE NÚMEROS HASTA QUE EL USUARIO LO DESEE, DESPLEGAR LA SUMA DE LOS NÚMEROS, MEDIA Y VALOR DE LOS NÚMEROS MAYORES Y MENORES."
      ]
    },
    {
      "cell_type": "code",
      "source": [
        "def calcular_estadisticas():\n",
        "    numeros = []\n",
        "    suma = 0\n",
        "    continuar = True\n",
        "\n",
        "    while continuar:\n",
        "        try:\n",
        "            numero = float(input(\"Ingrese un número: \"))\n",
        "            numeros.append(numero)\n",
        "            suma += numero\n",
        "            continuar = input(\"¿Desea ingresar otro número? (S/N): \").strip().lower() == 's'\n",
        "        except ValueError:\n",
        "            print(\"¡Error! Por favor ingrese un número válido.\")\n",
        "\n",
        "    if numeros:\n",
        "        promedio = suma / len(numeros)\n",
        "        numero_mayor = max(numeros)\n",
        "        numero_menor = min(numeros)\n",
        "        print(f\"Suma de los números: {suma}\")\n",
        "        print(f\"Media de los números: {promedio}\")\n",
        "        print(f\"Número mayor: {numero_mayor}\")\n",
        "        print(f\"Número menor: {numero_menor}\")\n",
        "    else:\n",
        "        print(\"No se ingresaron números.\")\n",
        "\n",
        "calcular_estadisticas()"
      ],
      "metadata": {
        "id": "7Y9SaYjdg7g0"
      },
      "execution_count": null,
      "outputs": []
    },
    {
      "cell_type": "markdown",
      "source": [
        "2.- FUNCIÓN QUE GENERE 15 NÚMEROS IMPARES ENTRE 10 Y 60 o MÁXIMO DE 25 NÚMEROS. DESPLEGAR LA MEDIA DE LOS PARES Y MEDIA DE IMPARES."
      ],
      "metadata": {
        "id": "MAxqYYUvhVxZ"
      }
    },
    {
      "cell_type": "code",
      "source": [
        "import random\n",
        "\n",
        "def generar_numeros_impares_y_calcular_media():\n",
        "    numeros_impares = []\n",
        "    numeros_pares = []\n",
        "\n",
        "\n",
        "    for _ in range(25):\n",
        "        numero = random.randint(10, 60)\n",
        "        if numero % 2 == 1:\n",
        "            numeros_impares.append(numero)\n",
        "        else:\n",
        "            numeros_pares.append(numero)\n",
        "\n",
        "    if len(numeros_impares) > 15:\n",
        "        numeros_impares = numeros_impares[:15]\n",
        "\n",
        "    media_impares = sum(numeros_impares) / len(numeros_impares) if numeros_impares else 0\n",
        "\n",
        "\n",
        "    media_pares = sum(numeros_pares) / len(numeros_pares) if numeros_pares else 0\n",
        "\n",
        "    print(f\"Números impares generados: {numeros_impares}\")\n",
        "    print(f\"Números pares generados: {numeros_pares}\")\n",
        "    print(f\"Media de los números impares: {media_impares}\")\n",
        "    print(f\"Media de los números pares: {media_pares}\")\n",
        "\n",
        "\n",
        "generar_numeros_impares_y_calcular_media()"
      ],
      "metadata": {
        "id": "i_2qpQU0hR1l"
      },
      "execution_count": null,
      "outputs": []
    },
    {
      "cell_type": "markdown",
      "source": [],
      "metadata": {
        "id": "JLQoe6FQhmnI"
      }
    },
    {
      "cell_type": "code",
      "source": [],
      "metadata": {
        "id": "vd0UsUhAhmPK"
      },
      "execution_count": null,
      "outputs": []
    }
  ]
}