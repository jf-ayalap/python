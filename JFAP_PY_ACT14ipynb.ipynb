{
  "nbformat": 4,
  "nbformat_minor": 0,
  "metadata": {
    "colab": {
      "provenance": [],
      "authorship_tag": "ABX9TyPVmBUB+DbaVNjMN7ZqHzRE",
      "include_colab_link": true
    },
    "kernelspec": {
      "name": "python3",
      "display_name": "Python 3"
    },
    "language_info": {
      "name": "python"
    }
  },
  "cells": [
    {
      "cell_type": "markdown",
      "metadata": {
        "id": "view-in-github",
        "colab_type": "text"
      },
      "source": [
        "<a href=\"https://colab.research.google.com/github/jf-ayalap/python/blob/main/JFAP_PY_ACT14ipynb.ipynb\" target=\"_parent\"><img src=\"https://colab.research.google.com/assets/colab-badge.svg\" alt=\"Open In Colab\"/></a>"
      ]
    },
    {
      "cell_type": "code",
      "execution_count": null,
      "metadata": {
        "id": "Heuvkd2Iolyw"
      },
      "outputs": [],
      "source": [
        "import tkinter as tk\n",
        "\n",
        "def click_boton(valor):\n",
        "    actual = entrada.get()\n",
        "    entrada.delete(0, tk.END)\n",
        "    entrada.insert(tk.END, str(actual) + str(valor))\n",
        "\n",
        "def borrar():\n",
        "    entrada.delete(0, tk.END)\n",
        "\n",
        "def calcular():\n",
        "    try:\n",
        "        resultado = eval(entrada.get())\n",
        "        entrada.delete(0, tk.END)\n",
        "        entrada.insert(tk.END, str(resultado))\n",
        "    except Exception as e:\n",
        "        entrada.delete(0, tk.END)\n",
        "        entrada.insert(tk.END, \"Error\")\n",
        "ventana = tk.Tk()\n",
        "ventana.title(\"Calculadora\")\n",
        "entrada = tk.Entry(ventana, width=14, font=(\"Arial\", 14))\n",
        "entrada.grid(row=0, column=0, columnspan=4)\n",
        "botones = [\n",
        "    '7', '8', '9', '/',\n",
        "    '4', '5', '6', '*',\n",
        "    '1', '2', '3', '-',\n",
        "    '0', '.', '=', '+'\n",
        "]\n",
        "fila = 1\n",
        "columna = 0\n",
        "\n",
        "for boton in botones:\n",
        "    tk.Button(ventana, text=boton, padx=17, pady=17, font=(\"Arial\", 14), command=lambda valor=boton: click_boton(valor) if valor != '=' else calcular()).grid(row=fila, column=columna)\n",
        "    columna += 1\n",
        "    if columna > 3:\n",
        "        columna = 0\n",
        "        fila += 1\n",
        "tk.Button(ventana, text='C', padx=17, pady=17, font=(\"Arial\", 14), command=borrar).grid(row=fila, column=columna)\n",
        "ventana.mainloop()"
      ]
    }
  ]
}