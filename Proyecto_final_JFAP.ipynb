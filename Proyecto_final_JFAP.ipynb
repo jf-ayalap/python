{
  "nbformat": 4,
  "nbformat_minor": 0,
  "metadata": {
    "colab": {
      "provenance": [],
      "authorship_tag": "ABX9TyPtmwKCJyNeGZPuL08L+D6w",
      "include_colab_link": true
    },
    "kernelspec": {
      "name": "python3",
      "display_name": "Python 3"
    },
    "language_info": {
      "name": "python"
    }
  },
  "cells": [
    {
      "cell_type": "markdown",
      "metadata": {
        "id": "view-in-github",
        "colab_type": "text"
      },
      "source": [
        "<a href=\"https://colab.research.google.com/github/jf-ayalap/python/blob/main/Proyecto_final_JFAP.ipynb\" target=\"_parent\"><img src=\"https://colab.research.google.com/assets/colab-badge.svg\" alt=\"Open In Colab\"/></a>"
      ]
    },
    {
      "cell_type": "code",
      "execution_count": null,
      "metadata": {
        "colab": {
          "base_uri": "https://localhost:8080/"
        },
        "id": "s58CPWZFt7g8",
        "outputId": "c0a8b88a-dff4-4c70-b1c2-fe7fed41dc43"
      },
      "outputs": [
        {
          "output_type": "stream",
          "name": "stdout",
          "text": [
            "¡Bienvenido al juego de lotería!\n",
            "Este es tu cartón:\n",
            "[59, 13, 7]\n",
            "[72, 11, 86]\n",
            "[33, 92, 87]\n",
            "\n",
            "Número sorteado: 82\n",
            "¿Quieres continuar? (y/n): y\n",
            "\n",
            "Número sorteado: 26\n",
            "¿Quieres continuar? (y/n): y\n",
            "\n",
            "Número sorteado: 5\n",
            "¿Quieres continuar? (y/n): y\n",
            "\n",
            "Número sorteado: 67\n",
            "¿Quieres continuar? (y/n): y\n",
            "\n",
            "Número sorteado: 55\n",
            "¿Quieres continuar? (y/n): y\n",
            "\n",
            "Número sorteado: 66\n",
            "¿Quieres continuar? (y/n): n\n",
            "\n",
            "Gracias por jugar\n"
          ]
        }
      ],
      "source": [
        "import random\n",
        "\n",
        "def generar_carton():\n",
        "    return [[random.randint(1, 100) for _ in range(3)] for _ in range(3)]\n",
        "\n",
        "def imprimir_carton(carton):\n",
        "    for fila in carton:\n",
        "        print(fila)\n",
        "\n",
        "def verificar_ganador(carton):\n",
        "    # Verificar filas\n",
        "    for fila in carton:\n",
        "        if len(set(fila)) == 1:\n",
        "            return True\n",
        "\n",
        "\n",
        "    for col in range(3):\n",
        "        if len(set(carton[f][col] for f in range(3))) == 1:\n",
        "            return True\n",
        "\n",
        "    if len(set(carton[i][i] for i in range(3))) == 1 or len(set(carton[i][2 - i] for i in range(3))) == 1:\n",
        "        return True\n",
        "\n",
        "    return False\n",
        "\n",
        "def juego_de_loteria():\n",
        "    print(\"¡Bienvenido al juego de lotería!\")\n",
        "\n",
        "\n",
        "    carton_jugador = generar_carton()\n",
        "\n",
        "    print(\"Este es tu cartón:\")\n",
        "    imprimir_carton(carton_jugador)\n",
        "\n",
        "\n",
        "    numeros_sorteados = set()\n",
        "\n",
        "    while True:\n",
        "\n",
        "        numero_sorteo = random.randint(1, 100)\n",
        "        while numero_sorteo in numeros_sorteados:\n",
        "            numero_sorteo = random.randint(1, 100)\n",
        "\n",
        "        print(f\"\\nNúmero sorteado: {numero_sorteo}\")\n",
        "        numeros_sorteados.add(numero_sorteo)\n",
        "\n",
        "\n",
        "        if verificar_ganador(carton_jugador):\n",
        "            print(\"\\n¡Ganaste!\")\n",
        "            break\n",
        "\n",
        "        continuar = input(\"¿Quieres continuar? (y/n): \")\n",
        "        if continuar.lower() != 'y':\n",
        "            print(\"\\nGracias por jugar\")\n",
        "            break\n",
        "\n",
        "if __name__ == \"__main__\":\n",
        "    juego_de_loteria()"
      ]
    }
  ]
}