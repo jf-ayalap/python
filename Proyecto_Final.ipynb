{
  "nbformat": 4,
  "nbformat_minor": 0,
  "metadata": {
    "colab": {
      "provenance": [],
      "authorship_tag": "ABX9TyPpDphZzaZ4bh96IW5RZ3Ki",
      "include_colab_link": true
    },
    "kernelspec": {
      "name": "python3",
      "display_name": "Python 3"
    },
    "language_info": {
      "name": "python"
    }
  },
  "cells": [
    {
      "cell_type": "markdown",
      "metadata": {
        "id": "view-in-github",
        "colab_type": "text"
      },
      "source": [
        "<a href=\"https://colab.research.google.com/github/jf-ayalap/python/blob/main/Proyecto_Final.ipynb\" target=\"_parent\"><img src=\"https://colab.research.google.com/assets/colab-badge.svg\" alt=\"Open In Colab\"/></a>"
      ]
    },
    {
      "cell_type": "code",
      "execution_count": null,
      "metadata": {
        "id": "E5dnW1BobNZ_"
      },
      "outputs": [],
      "source": [
        "import sys\n",
        "from random import sample\n",
        "from PIL import Image, ImageDraw, ImageFont\n",
        "\n",
        "cartones = []\n",
        "total = 0\n",
        "\n",
        "try:\n",
        "    totalCartones = int(sys.argv[1])\n",
        "    print(f\"Total de Cartones: {totalCartones}\")\n",
        "except (IndexError, ValueError) as e:\n",
        "    print(f\"Error: {e}\")\n",
        "    sys.exit(1)\n",
        "\n",
        "while True:\n",
        "    try:\n",
        "        if total >= totalCartones:\n",
        "            break\n",
        "        nuevo = sample(range(1, 22), 9)\n",
        "        if total > 0 and sorted(cartones[-1]) == sorted(nuevo):\n",
        "            continue\n",
        "        else:\n",
        "            cartones.append(nuevo)\n",
        "            total += 1\n",
        "    except Exception as e:\n",
        "        print(f\"Error al generar cartón: {e}\")\n",
        "        sys.exit(1)\n",
        "\n",
        "cn = 1\n",
        "w, h = 175, 280\n",
        "\n",
        "for c in cartones:\n",
        "    try:\n",
        "        carton = Image.new(mode=\"RGB\", size=(692, 1164), color=(255, 255, 255))\n",
        "        p = 0\n",
        "        i = 0\n",
        "        x = 0\n",
        "        y = 40\n",
        "\n",
        "        while i < 4:\n",
        "            j = 0\n",
        "            while j < 4:\n",
        "                imagen = Image.open('/Users/jayala2/Documents/Escuela/Python/proyecto/frutas/{0}.jpeg'.format(c[p]))\n",
        "                carton.paste(imagen, (x, y))\n",
        "                j += 1\n",
        "                p += 1\n",
        "                x += w\n",
        "\n",
        "            x = 0\n",
        "            y += h\n",
        "            i += 1\n",
        "\n",
        "        rectangulo1 = [(0, 0), (692, 40)]\n",
        "        dibujo = ImageDraw.Draw(carton)\n",
        "        dibujo.rectangle(rectangulo1, fill=\"#ffffff\", outline=\"#808080\")\n",
        "        fuente1 = ImageFont.truetype(\"MonospaceTypewriter.ttf\", 25)\n",
        "        dibujo.text((10, 5), \"Cartón Número: {0}\".format(cn), font=fuente1, fill=(0, 0, 0))\n",
        "        carton.save(\"/Users/jayala2/Documents/Escuela/Python/proyecto/cartones/carton{0}.png\".format(cn), \"PNG\")\n",
        "        cn += 1\n",
        "    except Exception as e:\n",
        "        print(f\"Error al procesar cartón: {e}\")\n",
        "        sys.exit(1)"
      ]
    }
  ]
}